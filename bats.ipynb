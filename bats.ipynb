{
  "nbformat": 4,
  "nbformat_minor": 0,
  "metadata": {
    "colab": {
      "provenance": []
    },
    "kernelspec": {
      "name": "python3",
      "display_name": "Python 3"
    },
    "language_info": {
      "name": "python"
    }
  },
  "cells": [
    {
      "cell_type": "code",
      "source": [
        "import pandas as pd\n",
        "import sys"
      ],
      "metadata": {
        "id": "gAtmDXuf5VHv"
      },
      "execution_count": null,
      "outputs": []
    },
    {
      "cell_type": "code",
      "source": [
        "## Mount the Google Drive folder for accessing data etc\n",
        "if('google.colab' in sys.modules):\n",
        "    from google.colab import drive\n",
        "    drive.mount('/content/drive', force_remount = True)\n",
        "    # Change path below starting from /content/drive/MyDrive/Colab Notebooks/\n",
        "    # depending on how data is organized inside your Colab Notebooks folder in\n",
        "    # Google Drive\n",
        "    DIR = '/content/drive/MyDrive/Colab Notebooks/ALA_Assignment-03'\n",
        "    DATA_DIR = DIR+'/Data/'\n",
        "else:\n",
        "    DATA_DIR = 'Data/'"
      ],
      "metadata": {
        "colab": {
          "base_uri": "https://localhost:8080/"
        },
        "id": "mXABqqkg7qNM",
        "outputId": "91587e9e-a279-4261-8204-1ce62383cc1d"
      },
      "execution_count": null,
      "outputs": [
        {
          "output_type": "stream",
          "name": "stdout",
          "text": [
            "Mounted at /content/drive\n"
          ]
        }
      ]
    },
    {
      "cell_type": "code",
      "source": [
        "FILENAME = DATA_DIR + 'bats.csv'\n",
        "df = pd.read_csv(FILENAME)\n",
        "df.head()"
      ],
      "metadata": {
        "id": "n5w0w0e9ySUR"
      },
      "execution_count": null,
      "outputs": []
    },
    {
      "cell_type": "code",
      "source": [
        "# Calculate the chance of a random bat carrying the Ebola virus\n",
        "ebola_chance = data[\"Ebola\"].mean()\n",
        "print(f\"Chance of a random bat carrying Ebola: {ebola_chance:.2%}\")\n",
        "\n",
        "# Calculate the likelihood of each gene being expressed\n",
        "genes = [\"Gene1\", \"Gene2\", \"Gene3\", \"Gene4\"]\n",
        "gene_likelihoods = data[genes].mean()\n",
        "for gene, likelihood in gene_likelihoods.items():\n",
        "    print(f\"Likelihood of {gene} being expressed: {likelihood:.2%}\")\n",
        "\n",
        "# Calculate the likelihood of carrying Ebola based on the presence of each gene\n",
        "for gene in genes:\n",
        "    ebola_by_gene = data.groupby(gene)[\"Ebola\"].mean()\n",
        "    print(f\"Likelihood of carrying Ebola given {gene}:\")\n",
        "    print(ebola_by_gene)\n",
        "\n",
        "# Check if the presence or absence of any gene is indicative of carrying Ebola\n",
        "significant_genes = []\n",
        "for gene in genes:\n",
        "    ebola_by_gene = data.groupby(gene)[\"Ebola\"].mean()\n",
        "    if ebola_by_gene.min() < ebola_chance and ebola_by_gene.max() > ebola_chance:\n",
        "        significant_genes.append(gene)\n",
        "\n",
        "if significant_genes:\n",
        "    print(\"Genes indicative of carrying Ebola:\")\n",
        "    print(significant_genes)\n",
        "else:\n",
        "    print(\"No genes are indicative of carrying Ebola.\")\n"
      ],
      "metadata": {
        "id": "cibBGk_vyYj4"
      },
      "execution_count": null,
      "outputs": []
    }
  ]
}